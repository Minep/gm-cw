{
 "cells": [
  {
   "cell_type": "code",
   "execution_count": 1,
   "id": "b3ee21e5",
   "metadata": {},
   "outputs": [],
   "source": [
    "import numpy as np\n",
    "import matplotlib.pyplot as plt"
   ]
  },
  {
   "cell_type": "code",
   "execution_count": 2,
   "id": "dd6dd929",
   "metadata": {},
   "outputs": [],
   "source": [
    "# parity check matrix H\n",
    "H = np.array([[1, 1, 1, 1, 0, 0],\n",
    "              [0, 0, 1, 1, 0, 1],\n",
    "              [1, 0, 0, 1, 1, 0]])"
   ]
  },
  {
   "cell_type": "code",
   "execution_count": 3,
   "id": "0e7281c2",
   "metadata": {},
   "outputs": [
    {
     "data": {
      "text/plain": [
       "(3, 6)"
      ]
     },
     "execution_count": 3,
     "metadata": {},
     "output_type": "execute_result"
    }
   ],
   "source": [
    "H.shape"
   ]
  },
  {
   "cell_type": "markdown",
   "id": "966368a7",
   "metadata": {},
   "source": [
    "https://en.wikipedia.org/wiki/Low-density_parity-check_code"
   ]
  },
  {
   "cell_type": "code",
   "execution_count": 4,
   "id": "23aabf03",
   "metadata": {},
   "outputs": [],
   "source": [
    "def generate_H_hat(H):\n",
    "    \n",
    "    rows, cols = H.shape\n",
    "    N, K = cols, cols - rows\n",
    "    M = N - K\n",
    "    H_hat = H.copy()\n",
    "    \n",
    "    for i in range(M):\n",
    "        j = 1\n",
    "        while H_hat[i][K + i] != 1:\n",
    "            flag = (i + j) % M\n",
    "            sum_ = H_hat[i] + H_hat[flag]\n",
    "            H_hat[i] = sum_ % 2\n",
    "            j += 1\n",
    "            \n",
    "        for k in range(M):\n",
    "            if k == i:\n",
    "                continue\n",
    "            if H_hat[k][K + i] == 1:\n",
    "                sum_ = H_hat[i] + H_hat[k]\n",
    "                H_hat[k] = sum_ % 2\n",
    "    return H_hat"
   ]
  },
  {
   "cell_type": "code",
   "execution_count": 5,
   "id": "7cc3ca3c",
   "metadata": {},
   "outputs": [],
   "source": [
    "def generate_G(H):\n",
    "    \n",
    "    rows, cols = H.shape\n",
    "    N, K = cols, cols - rows\n",
    "    M = N - K\n",
    "    H_hat = generate_H_hat(H)\n",
    "    \n",
    "    I = np.eye(K, dtype=int)\n",
    "    P = H_hat[:, :K]\n",
    "    G = np.vstack((I, P))\n",
    "\n",
    "    return G"
   ]
  },
  {
   "cell_type": "code",
   "execution_count": 6,
   "id": "1a4f2f2d",
   "metadata": {},
   "outputs": [
    {
     "name": "stdout",
     "output_type": "stream",
     "text": [
      "H_hat:\n",
      "[[1 1 1 1 0 0]\n",
      " [0 1 1 0 1 0]\n",
      " [1 1 0 0 0 1]]\n",
      "\n",
      "G:\n",
      "[[1 0 0]\n",
      " [0 1 0]\n",
      " [0 0 1]\n",
      " [1 1 1]\n",
      " [0 1 1]\n",
      " [1 1 0]]\n"
     ]
    }
   ],
   "source": [
    "H_hat = generate_H_hat(H)\n",
    "G = generate_G(H)\n",
    "\n",
    "print(\"H_hat:\")\n",
    "print(H_hat)\n",
    "print(\"\\nG:\")\n",
    "print(G)"
   ]
  },
  {
   "cell_type": "code",
   "execution_count": 7,
   "id": "8aebeeb6",
   "metadata": {},
   "outputs": [],
   "source": [
    "# read files\n",
    "H1 = np.loadtxt(fname=\"H1.txt\", dtype=int)\n",
    "y1 = np.loadtxt(fname=\"y1.txt\", dtype=int)"
   ]
  },
  {
   "cell_type": "code",
   "execution_count": 8,
   "id": "89028925",
   "metadata": {},
   "outputs": [
    {
     "data": {
      "text/plain": [
       "(750, 1000)"
      ]
     },
     "execution_count": 8,
     "metadata": {},
     "output_type": "execute_result"
    }
   ],
   "source": [
    "H1.shape"
   ]
  },
  {
   "cell_type": "code",
   "execution_count": 9,
   "id": "127aa6d2",
   "metadata": {},
   "outputs": [
    {
     "data": {
      "text/plain": [
       "(1000,)"
      ]
     },
     "execution_count": 9,
     "metadata": {},
     "output_type": "execute_result"
    }
   ],
   "source": [
    "y1.shape\n",
    "lllll"
   ]
  },
  {
   "cell_type": "code",
   "execution_count": 28,
   "id": "7ab0ce23",
   "metadata": {
    "scrolled": false
   },
   "outputs": [
    {
     "ename": "ValueError",
     "evalue": "The truth value of an array with more than one element is ambiguous. Use a.any() or a.all()",
     "output_type": "error",
     "traceback": [
      "\u001b[0;31m---------------------------------------------------------------------------\u001b[0m",
      "\u001b[0;31mValueError\u001b[0m                                Traceback (most recent call last)",
      "\u001b[0;32m/var/folders/s7/vpt9yc5j75s7gz6g__d5dpbw0000gn/T/ipykernel_11715/2187862608.py\u001b[0m in \u001b[0;36m<module>\u001b[0;34m\u001b[0m\n\u001b[1;32m     12\u001b[0m     \u001b[0;32mreturn\u001b[0m \u001b[0mB\u001b[0m\u001b[0;34m\u001b[0m\u001b[0;34m\u001b[0m\u001b[0m\n\u001b[1;32m     13\u001b[0m \u001b[0;34m\u001b[0m\u001b[0m\n\u001b[0;32m---> 14\u001b[0;31m \u001b[0mB\u001b[0m\u001b[0;34m=\u001b[0m \u001b[0mdecoder\u001b[0m\u001b[0;34m(\u001b[0m\u001b[0mH1\u001b[0m\u001b[0;34m,\u001b[0m \u001b[0my1\u001b[0m\u001b[0;34m)\u001b[0m\u001b[0;34m\u001b[0m\u001b[0;34m\u001b[0m\u001b[0m\n\u001b[0m\u001b[1;32m     15\u001b[0m \u001b[0mlen\u001b[0m\u001b[0;34m(\u001b[0m\u001b[0mB\u001b[0m\u001b[0;34m)\u001b[0m\u001b[0;34m\u001b[0m\u001b[0;34m\u001b[0m\u001b[0m\n",
      "\u001b[0;32m/var/folders/s7/vpt9yc5j75s7gz6g__d5dpbw0000gn/T/ipykernel_11715/2187862608.py\u001b[0m in \u001b[0;36mdecoder\u001b[0;34m(H, y, p)\u001b[0m\n\u001b[1;32m      5\u001b[0m     \u001b[0mB\u001b[0m \u001b[0;34m=\u001b[0m \u001b[0;34m[\u001b[0m\u001b[0;34m]\u001b[0m\u001b[0;34m\u001b[0m\u001b[0;34m\u001b[0m\u001b[0m\n\u001b[1;32m      6\u001b[0m     \u001b[0;32mfor\u001b[0m \u001b[0mi\u001b[0m \u001b[0;32min\u001b[0m \u001b[0mrange\u001b[0m\u001b[0;34m(\u001b[0m\u001b[0mrows\u001b[0m\u001b[0;34m)\u001b[0m\u001b[0;34m:\u001b[0m\u001b[0;34m\u001b[0m\u001b[0;34m\u001b[0m\u001b[0m\n\u001b[0;32m----> 7\u001b[0;31m         \u001b[0;32mif\u001b[0m \u001b[0mH\u001b[0m\u001b[0;34m[\u001b[0m\u001b[0mi\u001b[0m\u001b[0;34m]\u001b[0m \u001b[0;34m==\u001b[0m \u001b[0;36m1\u001b[0m\u001b[0;34m:\u001b[0m\u001b[0;34m\u001b[0m\u001b[0;34m\u001b[0m\u001b[0m\n\u001b[0m\u001b[1;32m      8\u001b[0m             \u001b[0mB\u001b[0m\u001b[0;34m.\u001b[0m\u001b[0mappend\u001b[0m\u001b[0;34m(\u001b[0m\u001b[0mH\u001b[0m\u001b[0;34m[\u001b[0m\u001b[0mi\u001b[0m\u001b[0;34m]\u001b[0m\u001b[0;34m[\u001b[0m\u001b[0;36m0\u001b[0m\u001b[0;34m]\u001b[0m\u001b[0;34m)\u001b[0m\u001b[0;34m\u001b[0m\u001b[0;34m\u001b[0m\u001b[0m\n\u001b[1;32m      9\u001b[0m     \u001b[0mprint\u001b[0m\u001b[0;34m(\u001b[0m\u001b[0mB\u001b[0m\u001b[0;34m)\u001b[0m\u001b[0;34m\u001b[0m\u001b[0;34m\u001b[0m\u001b[0m\n",
      "\u001b[0;31mValueError\u001b[0m: The truth value of an array with more than one element is ambiguous. Use a.any() or a.all()"
     ]
    }
   ],
   "source": [
    "def decoder(H, y, p=0.1):\n",
    "\n",
    "    rows, cols = H.shape\n",
    "\n",
    "    B = []\n",
    "    for i in range(rows):\n",
    "        if H[i] == 1:\n",
    "            B.append(H[i][0])\n",
    "    print(B)\n",
    "\n",
    "    \n",
    "    return B\n",
    "\n",
    "B= decoder(H1, y1)\n",
    "len(B)"
   ]
  },
  {
   "cell_type": "code",
   "execution_count": null,
   "id": "3bcba32f",
   "metadata": {},
   "outputs": [],
   "source": []
  },
  {
   "cell_type": "code",
   "execution_count": null,
   "id": "6e3217dd",
   "metadata": {},
   "outputs": [],
   "source": []
  }
 ],
 "metadata": {
  "kernelspec": {
   "display_name": "Python 3",
   "language": "python",
   "name": "python3"
  },
  "language_info": {
   "codemirror_mode": {
    "name": "ipython",
    "version": 3
   },
   "file_extension": ".py",
   "mimetype": "text/x-python",
   "name": "python",
   "nbconvert_exporter": "python",
   "pygments_lexer": "ipython3",
   "version": "3.10.6 (v3.10.6:9c7b4bd164, Aug  1 2022, 17:13:48) [Clang 13.0.0 (clang-1300.0.29.30)]"
  },
  "vscode": {
   "interpreter": {
    "hash": "aee8b7b246df8f9039afb4144a1f6fd8d2ca17a180786b69acc140d282b71a49"
   }
  }
 },
 "nbformat": 4,
 "nbformat_minor": 5
}
