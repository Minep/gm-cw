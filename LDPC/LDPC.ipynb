{
 "cells": [
  {
   "cell_type": "code",
   "execution_count": 1,
   "id": "b3ee21e5",
   "metadata": {},
   "outputs": [],
   "source": [
    "import numpy as np\n",
    "import matplotlib.pyplot as plt"
   ]
  },
  {
   "cell_type": "code",
   "execution_count": 2,
   "id": "dd6dd929",
   "metadata": {},
   "outputs": [],
   "source": [
    "# parity check matrix H\n",
    "H = np.array([[1, 1, 1, 1, 0, 0],\n",
    "              [0, 0, 1, 1, 0, 1],\n",
    "              [1, 0, 0, 1, 1, 0]])"
   ]
  },
  {
   "cell_type": "code",
   "execution_count": 3,
   "id": "0e7281c2",
   "metadata": {},
   "outputs": [
    {
     "data": {
      "text/plain": [
       "(3, 6)"
      ]
     },
     "execution_count": 3,
     "metadata": {},
     "output_type": "execute_result"
    }
   ],
   "source": [
    "H.shape"
   ]
  },
  {
   "cell_type": "markdown",
   "id": "966368a7",
   "metadata": {},
   "source": [
    "https://en.wikipedia.org/wiki/Low-density_parity-check_code"
   ]
  },
  {
   "cell_type": "code",
   "execution_count": 4,
   "id": "23aabf03",
   "metadata": {},
   "outputs": [],
   "source": [
    "def generate_H_hat(H):\n",
    "    \n",
    "    rows, cols = H.shape\n",
    "    N, K = cols, cols - rows\n",
    "    M = N - K\n",
    "    H_hat = H.copy()\n",
    "    \n",
    "    for i in range(M):\n",
    "        j = 1\n",
    "        while H_hat[i][K + i] != 1:\n",
    "            flag = (i + j) % M\n",
    "            sum_ = H_hat[i] + H_hat[flag]\n",
    "            H_hat[i] = sum_ % 2\n",
    "            j += 1\n",
    "            \n",
    "        for k in range(M):\n",
    "            if k == i:\n",
    "                continue\n",
    "            if H_hat[k][K + i] == 1:\n",
    "                sum_ = H_hat[i] + H_hat[k]\n",
    "                H_hat[k] = sum_ % 2\n",
    "    return H_hat"
   ]
  },
  {
   "cell_type": "code",
   "execution_count": 5,
   "id": "7cc3ca3c",
   "metadata": {},
   "outputs": [],
   "source": [
    "def generate_G(H):\n",
    "    \n",
    "    rows, cols = H.shape\n",
    "    N, K = cols, cols - rows\n",
    "    M = N - K\n",
    "    H_hat = generate_H_hat(H)\n",
    "    \n",
    "    I = np.eye(K, dtype=int)\n",
    "    P = H_hat[:, :K]\n",
    "    G = np.vstack((I, P))\n",
    "\n",
    "    return G"
   ]
  },
  {
   "cell_type": "code",
   "execution_count": 6,
   "id": "1a4f2f2d",
   "metadata": {},
   "outputs": [
    {
     "name": "stdout",
     "output_type": "stream",
     "text": [
      "H_hat:\n",
      "[[1 1 1 1 0 0]\n",
      " [0 1 1 0 1 0]\n",
      " [1 1 0 0 0 1]]\n",
      "\n",
      "G:\n",
      "[[1 0 0]\n",
      " [0 1 0]\n",
      " [0 0 1]\n",
      " [1 1 1]\n",
      " [0 1 1]\n",
      " [1 1 0]]\n"
     ]
    }
   ],
   "source": [
    "H_hat = generate_H_hat(H)\n",
    "G = generate_G(H)\n",
    "\n",
    "print(\"H_hat:\")\n",
    "print(H_hat)\n",
    "print(\"\\nG:\")\n",
    "print(G)"
   ]
  },
  {
   "cell_type": "code",
   "execution_count": 7,
   "id": "8aebeeb6",
   "metadata": {},
   "outputs": [],
   "source": [
    "# read files\n",
    "H1 = np.loadtxt(fname=\"H1.txt\", dtype=int)\n",
    "y1 = np.loadtxt(fname=\"y1.txt\", dtype=int)"
   ]
  },
  {
   "cell_type": "code",
   "execution_count": 8,
   "id": "89028925",
   "metadata": {},
   "outputs": [
    {
     "data": {
      "text/plain": [
       "(750, 1000)"
      ]
     },
     "execution_count": 8,
     "metadata": {},
     "output_type": "execute_result"
    }
   ],
   "source": [
    "H1.shape"
   ]
  },
  {
   "cell_type": "code",
   "execution_count": 9,
   "id": "127aa6d2",
   "metadata": {},
   "outputs": [
    {
     "data": {
      "text/plain": [
       "(1000,)"
      ]
     },
     "execution_count": 9,
     "metadata": {},
     "output_type": "execute_result"
    }
   ],
   "source": [
    "y1.shape"
   ]
  },
  {
   "cell_type": "code",
   "execution_count": 10,
   "id": "25615a4a",
   "metadata": {},
   "outputs": [],
   "source": [
    "# read files\n",
    "H1 = np.loadtxt(fname=\"H1.txt\", dtype=int)\n",
    "y1 = np.loadtxt(fname=\"y1.txt\", dtype=int)"
   ]
  },
  {
   "cell_type": "code",
   "execution_count": 11,
   "id": "6e3217dd",
   "metadata": {},
   "outputs": [],
   "source": [
    "def decoder(H, y, p=0.1, max_itera_times=20):\n",
    "\n",
    "    rows, cols = H.shape\n",
    "    N, K = cols, cols - rows\n",
    "    M = N - K\n",
    "    nums_y = len(y)\n",
    "    \n",
    "    p_x1 = np.zeros(shape=nums_y)\n",
    "    p_x0 = np.zeros(shape=nums_y)\n",
    "    loglik = np.zeros(shape=(rows, cols))\n",
    "    bits = []\n",
    "    itera_times = 0\n",
    "    \n",
    "    for i in range(nums_y):\n",
    "        p_x1[i] = p ** ((y[i] + 1) % 2) * (1 - p) ** ((y[i] + 2) % 2)\n",
    "        p_x0[i] = p ** y[i] * (1 - p) ** ((y[i] + 1) % 2)\n",
    "#     print(p_x1)\n",
    "#     print(p_x0)\n",
    "    \n",
    "    # log likelihood will be faster\n",
    "    for row in range(rows):\n",
    "        bits.append(np.where(H[row]==1)[0])\n",
    "        for col in range(cols):\n",
    "            loglik[row, col] = np.log(p_x0[col] / p_x1[col])\n",
    "    \n",
    "#     print(loglik)\n",
    "\n",
    "    while True:\n",
    "        itera_times += 1\n",
    "        \n",
    "        loop_continued = False\n",
    "        loglik_factorized = np.zeros(shape=(rows, cols))\n",
    "        pred = np.zeros(shape=cols)\n",
    "        \n",
    "        for row in range(rows):\n",
    "            column = np.zeros(shape=cols)\n",
    "            prod = loglik[row, bits[row]]\n",
    "            \n",
    "            for i in range(len(prod)):\n",
    "                prod_ = np.prod(np.tanh(np.hstack((prod[0:i], prod[i + 1:len(prod)])) / 2))\n",
    "#                 prod_ = 1\n",
    "#                 for j in temp:\n",
    "#                     prod_ *= j\n",
    "                column[bits[row][i]] = np.log((1 + prod_) / (1 - prod_))\n",
    "    \n",
    "            loglik_factorized[row, :] = column\n",
    "        \n",
    "#         print(loglik_factorized)\n",
    "        posterior = loglik_factorized.sum(axis=0)\n",
    "        for i in range(len(posterior)):\n",
    "            posterior[i] += np.log(p_x0[i] / p_x1[i])\n",
    "#         print(posterior)   \n",
    "        for i in range(len(pred)):\n",
    "            pred[i] = 0 if posterior[i] > 0 else 1\n",
    "#         print(len(posterior))\n",
    "#         print(len(pred))\n",
    "        \n",
    "        temp = np.matmul(H, pred.T) % 2\n",
    "        for element in temp:\n",
    "            if element != 0:\n",
    "                loop_continued = True\n",
    "                break\n",
    "        if loop_continued and itera_times < max_itera_times:\n",
    "            for row in range(rows):\n",
    "                for col in range(cols):\n",
    "                    loglik[row, col] = posterior[col] - loglik_factorized[row, col]\n",
    "        else:\n",
    "            break\n",
    "    if itera_times <= 20:        \n",
    "        return pred, itera_times, 0\n",
    "    else:\n",
    "        return pred, itera_times, -1\n"
   ]
  },
  {
   "cell_type": "code",
   "execution_count": 12,
   "id": "76b0e301",
   "metadata": {},
   "outputs": [],
   "source": [
    "def translator(decode_vec):\n",
    "    message = []\n",
    "    for i in range(31):\n",
    "        char_ = ''\n",
    "        for j in range(8):\n",
    "            char_ += (decode_vec[i * 8 + j].astype(int)).astype(str)\n",
    "#         print(char)\n",
    "        message.append(chr(int(char_, 2)))\n",
    "    return message"
   ]
  },
  {
   "cell_type": "code",
   "execution_count": 13,
   "id": "250bfc29",
   "metadata": {
    "scrolled": false
   },
   "outputs": [
    {
     "name": "stdout",
     "output_type": "stream",
     "text": [
      "It takes 8 iterations.\n"
     ]
    }
   ],
   "source": [
    "decoded_vector, itera_times, return_code = decoder(H1, y1)\n",
    "\n",
    "print(\"It takes {} iterations.\".format(itera_times))"
   ]
  },
  {
   "cell_type": "code",
   "execution_count": 14,
   "id": "27a811af",
   "metadata": {},
   "outputs": [
    {
     "name": "stdout",
     "output_type": "stream",
     "text": [
      "Decoded Vector:\n",
      "[0. 1. 0. 0. 1. 0. 0. 0. 0. 1. 1. 0. 0. 0. 0. 1. 0. 1. 1. 1. 0. 0. 0. 0.\n",
      " 0. 1. 1. 1. 0. 0. 0. 0. 0. 1. 1. 1. 1. 0. 0. 1. 0. 0. 1. 0. 0. 0. 0. 0.\n",
      " 0. 1. 0. 0. 1. 0. 0. 0. 0. 1. 1. 0. 1. 1. 1. 1. 0. 1. 1. 0. 1. 1. 0. 0.\n",
      " 0. 1. 1. 0. 1. 0. 0. 1. 0. 1. 1. 0. 0. 1. 0. 0. 0. 1. 1. 0. 0. 0. 0. 1.\n",
      " 0. 1. 1. 1. 1. 0. 0. 1. 0. 1. 1. 1. 0. 0. 1. 1. 0. 0. 1. 0. 0. 0. 0. 1.\n",
      " 0. 0. 1. 0. 0. 0. 0. 0. 0. 1. 0. 0. 0. 1. 0. 0. 0. 1. 1. 0. 1. 1. 0. 1.\n",
      " 0. 1. 1. 0. 1. 0. 0. 1. 0. 1. 1. 1. 0. 1. 0. 0. 0. 1. 1. 1. 0. 0. 1. 0.\n",
      " 0. 1. 1. 1. 1. 0. 0. 1. 0. 0. 1. 0. 0. 1. 1. 0. 0. 1. 0. 0. 0. 1. 0. 0.\n",
      " 0. 1. 1. 0. 0. 0. 0. 1. 0. 1. 1. 1. 0. 1. 1. 0. 0. 1. 1. 0. 1. 0. 0. 1.\n",
      " 0. 1. 1. 0. 0. 1. 0. 0. 0. 0. 1. 0. 0. 0. 0. 0. 0. 0. 1. 1. 1. 0. 1. 0.\n",
      " 0. 0. 1. 0. 1. 0. 0. 1. 0. 0. 0. 0. 1. 1. 0. 0. 1. 1. 1. 1. 1. 1. 1. 1.\n",
      " 1. 1. 0. 0. 0. 0. 1. 1. 0. 0. 0. 0. 1. 1. 0. 0. 0. 0. 1. 1. 0. 1. 0. 1.\n",
      " 1. 0. 0. 1. 1. 0. 1. 0. 1. 0. 1. 0. 1. 1. 1. 1. 1. 1. 1. 1. 0. 0. 0. 0.\n",
      " 0. 0. 0. 0. 1. 1. 0. 0. 1. 1. 0. 0. 0. 0. 0. 0. 1. 1. 0. 0. 1. 0. 1. 0.\n",
      " 1. 0. 0. 1. 1. 1. 1. 1. 1. 0. 1. 0. 1. 1. 0. 0. 0. 0. 0. 0. 1. 0. 0. 1.\n",
      " 1. 1. 1. 1. 0. 1. 0. 1. 0. 1. 1. 0. 0. 1. 1. 0. 0. 1. 0. 1. 0. 0. 1. 1.\n",
      " 1. 0. 1. 0. 0. 0. 0. 0. 1. 0. 0. 1. 1. 1. 0. 0. 0. 0. 0. 0. 0. 1. 1. 0.\n",
      " 0. 0. 0. 0. 0. 1. 1. 0. 0. 1. 1. 0. 0. 0. 0. 0. 1. 0. 0. 1. 1. 0. 0. 1.\n",
      " 1. 0. 0. 1. 1. 0. 0. 1. 1. 1. 0. 0. 1. 1. 1. 1. 1. 1. 1. 1. 0. 0. 0. 0.\n",
      " 0. 0. 1. 1. 0. 0. 1. 1. 0. 1. 1. 0. 0. 1. 0. 1. 1. 0. 0. 1. 0. 1. 1. 0.\n",
      " 1. 0. 0. 1. 0. 1. 1. 0. 0. 1. 1. 0. 1. 0. 0. 1. 0. 1. 1. 0. 0. 0. 0. 0.\n",
      " 1. 0. 1. 0. 0. 0. 1. 1. 0. 1. 1. 0. 1. 1. 1. 1. 0. 0. 0. 0. 1. 1. 1. 1.\n",
      " 1. 1. 0. 0. 1. 1. 1. 1. 1. 0. 1. 0. 0. 1. 1. 0. 0. 1. 0. 1. 1. 1. 1. 1.\n",
      " 1. 1. 0. 0. 1. 0. 0. 1. 1. 0. 0. 1. 1. 0. 1. 0. 1. 0. 1. 0. 0. 1. 1. 0.\n",
      " 0. 0. 1. 1. 1. 1. 0. 0. 0. 1. 1. 0. 1. 1. 0. 0. 0. 1. 1. 0. 1. 0. 0. 1.\n",
      " 1. 0. 0. 1. 0. 1. 1. 0. 1. 0. 1. 0. 1. 1. 1. 1. 1. 0. 0. 1. 0. 1. 1. 0.\n",
      " 0. 1. 1. 0. 1. 1. 1. 1. 1. 1. 0. 0. 0. 1. 0. 1. 1. 1. 0. 0. 1. 1. 1. 1.\n",
      " 0. 0. 0. 0. 0. 0. 0. 0. 0. 1. 0. 1. 0. 1. 1. 0. 1. 1. 0. 0. 0. 0. 0. 0.\n",
      " 0. 0. 1. 1. 0. 0. 1. 1. 1. 1. 1. 1. 0. 1. 1. 0. 0. 1. 1. 0. 1. 0. 0. 1.\n",
      " 0. 0. 1. 1. 1. 0. 1. 0. 0. 1. 0. 1. 1. 0. 1. 0. 0. 0. 1. 1. 0. 0. 1. 1.\n",
      " 0. 0. 1. 1. 1. 1. 0. 0. 1. 0. 1. 0. 1. 1. 0. 0. 1. 0. 0. 1. 1. 0. 1. 0.\n",
      " 1. 0. 0. 1. 1. 1. 1. 1. 0. 1. 1. 0. 0. 1. 1. 0. 1. 0. 1. 0. 0. 0. 1. 1.\n",
      " 1. 1. 1. 1. 1. 0. 1. 0. 1. 0. 1. 0. 0. 0. 0. 0. 0. 1. 0. 1. 1. 0. 0. 1.\n",
      " 0. 0. 0. 0. 1. 0. 1. 0. 1. 0. 0. 1. 0. 1. 0. 1. 1. 1. 1. 1. 0. 1. 1. 0.\n",
      " 0. 0. 1. 1. 1. 1. 0. 0. 0. 0. 0. 0. 0. 1. 0. 1. 0. 1. 1. 0. 1. 1. 0. 0.\n",
      " 0. 0. 1. 1. 1. 1. 1. 1. 0. 0. 1. 1. 0. 0. 0. 0. 0. 0. 1. 1. 0. 1. 1. 0.\n",
      " 1. 1. 1. 1. 0. 0. 1. 1. 0. 1. 0. 1. 0. 1. 1. 0. 1. 0. 0. 1. 1. 1. 1. 1.\n",
      " 1. 1. 1. 1. 0. 0. 0. 0. 1. 1. 0. 0. 0. 1. 1. 0. 1. 1. 0. 1. 0. 0. 0. 1.\n",
      " 0. 1. 0. 1. 1. 0. 1. 1. 1. 0. 0. 1. 0. 0. 1. 0. 0. 1. 1. 1. 0. 0. 1. 1.\n",
      " 0. 1. 0. 1. 1. 0. 1. 0. 1. 1. 1. 0. 0. 1. 0. 0. 1. 0. 1. 0. 1. 0. 1. 0.\n",
      " 1. 1. 1. 1. 0. 1. 1. 1. 0. 1. 1. 0. 0. 0. 1. 1. 1. 1. 1. 1. 1. 1. 0. 1.\n",
      " 1. 0. 1. 1. 0. 0. 1. 0. 1. 1. 0. 0. 1. 1. 1. 0.]\n"
     ]
    }
   ],
   "source": [
    "print(\"Decoded Vector:\")\n",
    "print(decoded_vector)"
   ]
  },
  {
   "cell_type": "code",
   "execution_count": 15,
   "id": "c8a2c938",
   "metadata": {},
   "outputs": [
    {
     "name": "stdout",
     "output_type": "stream",
     "text": [
      "Return code: 0.\n"
     ]
    }
   ],
   "source": [
    "print(\"Return code: {}.\".format(return_code))"
   ]
  },
  {
   "cell_type": "code",
   "execution_count": 16,
   "id": "0e3d0a9c",
   "metadata": {},
   "outputs": [
    {
     "name": "stdout",
     "output_type": "stream",
     "text": [
      "Happy Holidays! Dmitry&David :)\n"
     ]
    }
   ],
   "source": [
    "message = translator(decoded_vector)\n",
    "print(''.join(message))"
   ]
  },
  {
   "cell_type": "code",
   "execution_count": null,
   "id": "0900786a",
   "metadata": {},
   "outputs": [],
   "source": []
  }
 ],
 "metadata": {
  "kernelspec": {
   "display_name": "Python 3 (ipykernel)",
   "language": "python",
   "name": "python3"
  },
  "language_info": {
   "codemirror_mode": {
    "name": "ipython",
    "version": 3
   },
   "file_extension": ".py",
   "mimetype": "text/x-python",
   "name": "python",
   "nbconvert_exporter": "python",
   "pygments_lexer": "ipython3",
   "version": "3.9.13"
  }
 },
 "nbformat": 4,
 "nbformat_minor": 5
}
