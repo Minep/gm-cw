{
 "cells": [
  {
   "cell_type": "code",
   "execution_count": 1,
   "id": "b3ee21e5",
   "metadata": {},
   "outputs": [],
   "source": [
    "import numpy as np\n",
    "import matplotlib.pyplot as plt"
   ]
  },
  {
   "cell_type": "code",
   "execution_count": 2,
   "id": "dd6dd929",
   "metadata": {},
   "outputs": [],
   "source": [
    "# parity check matrix H\n",
    "H = np.array([[1, 1, 1, 1, 0, 0],\n",
    "              [0, 0, 1, 1, 0, 1],\n",
    "              [1, 0, 0, 1, 1, 0]])"
   ]
  },
  {
   "cell_type": "code",
   "execution_count": 3,
   "id": "0e7281c2",
   "metadata": {},
   "outputs": [
    {
     "data": {
      "text/plain": [
       "(3, 6)"
      ]
     },
     "execution_count": 3,
     "metadata": {},
     "output_type": "execute_result"
    }
   ],
   "source": [
    "H.shape"
   ]
  },
  {
   "cell_type": "markdown",
   "id": "966368a7",
   "metadata": {},
   "source": [
    "https://en.wikipedia.org/wiki/Low-density_parity-check_code"
   ]
  },
  {
   "cell_type": "code",
   "execution_count": 4,
   "id": "23aabf03",
   "metadata": {},
   "outputs": [],
   "source": [
    "def generate_H_hat(H):\n",
    "    \n",
    "    rows, cols = H.shape\n",
    "    N, K = cols, cols - rows\n",
    "    M = N - K\n",
    "    H_hat = H.copy()\n",
    "    \n",
    "    for i in range(M):\n",
    "        j = 1\n",
    "        while H_hat[i][K + i] != 1:\n",
    "            flag = (i + j) % M\n",
    "            sum_ = H_hat[i] + H_hat[flag]\n",
    "            H_hat[i] = sum_ % 2\n",
    "            j += 1\n",
    "            \n",
    "        for k in range(M):\n",
    "            if k == i:\n",
    "                continue\n",
    "            if H_hat[k][K + i] == 1:\n",
    "                sum_ = H_hat[i] + H_hat[k]\n",
    "                H_hat[k] = sum_ % 2\n",
    "    return H_hat"
   ]
  },
  {
   "cell_type": "code",
   "execution_count": 30,
   "id": "7cc3ca3c",
   "metadata": {},
   "outputs": [],
   "source": [
    "def generate_G(H):\n",
    "    \n",
    "    rows, cols = H.shape\n",
    "    N, K = cols, cols - rows\n",
    "    M = N - K\n",
    "    H_hat = generate_H_hat(H)\n",
    "    \n",
    "    I = np.eye(K, dtype=int)\n",
    "    P = H_hat[:, :K]\n",
    "    G = np.vstack((I, P))\n",
    "\n",
    "    return G"
   ]
  },
  {
   "cell_type": "code",
   "execution_count": 34,
   "id": "1a4f2f2d",
   "metadata": {},
   "outputs": [
    {
     "name": "stdout",
     "output_type": "stream",
     "text": [
      "H_hat:\n",
      "[[1 1 1 1 0 0]\n",
      " [0 1 1 0 1 0]\n",
      " [1 1 0 0 0 1]]\n",
      "\n",
      "G:\n",
      "[[1 0 0]\n",
      " [0 1 0]\n",
      " [0 0 1]\n",
      " [1 1 1]\n",
      " [0 1 1]\n",
      " [1 1 0]]\n"
     ]
    }
   ],
   "source": [
    "H_hat = generate_H_hat(H)\n",
    "G = generate_G(H)\n",
    "\n",
    "print(\"H_hat:\")\n",
    "print(H_hat)\n",
    "print(\"\\nG:\")\n",
    "print(G)"
   ]
  },
  {
   "cell_type": "code",
   "execution_count": 3,
   "id": "8aebeeb6",
   "metadata": {},
   "outputs": [
    {
     "ename": "FileNotFoundError",
     "evalue": "[Errno 2] No such file or directory: './H1.txt'",
     "output_type": "error",
     "traceback": [
      "\u001b[0;31m---------------------------------------------------------------------------\u001b[0m",
      "\u001b[0;31mFileNotFoundError\u001b[0m                         Traceback (most recent call last)",
      "\u001b[0;32m/var/folders/s7/vpt9yc5j75s7gz6g__d5dpbw0000gn/T/ipykernel_11354/1440813437.py\u001b[0m in \u001b[0;36m<module>\u001b[0;34m\u001b[0m\n\u001b[1;32m      1\u001b[0m \u001b[0;31m# read files\u001b[0m\u001b[0;34m\u001b[0m\u001b[0;34m\u001b[0m\u001b[0m\n\u001b[0;32m----> 2\u001b[0;31m \u001b[0mfile_h1\u001b[0m \u001b[0;34m=\u001b[0m \u001b[0mopen\u001b[0m\u001b[0;34m(\u001b[0m\u001b[0;34m\"./H1.txt\"\u001b[0m\u001b[0;34m)\u001b[0m\u001b[0;34m\u001b[0m\u001b[0;34m\u001b[0m\u001b[0m\n\u001b[0m\u001b[1;32m      3\u001b[0m \u001b[0mfile_y1\u001b[0m \u001b[0;34m=\u001b[0m \u001b[0mopen\u001b[0m\u001b[0;34m(\u001b[0m\u001b[0;34m\"/y1.txt\"\u001b[0m\u001b[0;34m)\u001b[0m\u001b[0;34m\u001b[0m\u001b[0;34m\u001b[0m\u001b[0m\n",
      "\u001b[0;31mFileNotFoundError\u001b[0m: [Errno 2] No such file or directory: './H1.txt'"
     ]
    }
   ],
   "source": [
    "# read files\n",
    "file_h1 = open(\"./H1.txt\")\n",
    "file_y1 = open(\"/y1.txt\")"
   ]
  },
  {
   "cell_type": "code",
   "execution_count": null,
   "id": "127aa6d2",
   "metadata": {},
   "outputs": [],
   "source": []
  }
 ],
 "metadata": {
  "kernelspec": {
   "display_name": "Python 3 (ipykernel)",
   "language": "python",
   "name": "python3"
  },
  "language_info": {
   "codemirror_mode": {
    "name": "ipython",
    "version": 3
   },
   "file_extension": ".py",
   "mimetype": "text/x-python",
   "name": "python",
   "nbconvert_exporter": "python",
   "pygments_lexer": "ipython3",
   "version": "3.9.13"
  }
 },
 "nbformat": 4,
 "nbformat_minor": 5
}
